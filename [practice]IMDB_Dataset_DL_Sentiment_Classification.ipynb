{
  "nbformat": 4,
  "nbformat_minor": 0,
  "metadata": {
    "colab": {
      "name": "Week6_DL_Classification.ipynb",
      "provenance": []
    },
    "kernelspec": {
      "name": "python3",
      "display_name": "Python 3"
    },
    "accelerator": "GPU"
  },
  "cells": [
    {
      "cell_type": "code",
      "metadata": {
        "id": "stSM0FBV13Ts",
        "colab_type": "code",
        "colab": {}
      },
      "source": [
        "from tensorflow.keras.preprocessing.sequence import pad_sequences\n",
        "from tensorflow.keras.callbacks import EarlyStopping, ModelCheckpoint\n",
        "from tensorflow.keras.models import load_model\n",
        "\n",
        "es = EarlyStopping(monitor = 'val_loss', mode='min', verbose =1, patience =4)\n",
        "mc = ModelCheckpoint('best_mode.h5', monitor='val_acc', mode='max',verbose=1)"
      ],
      "execution_count": 0,
      "outputs": []
    },
    {
      "cell_type": "code",
      "metadata": {
        "id": "gdlPAKw6D13Z",
        "colab_type": "code",
        "colab": {}
      },
      "source": [
        "from nltk.corpus import stopwords  \n",
        "\n",
        "word2index = imdb.get_word_index()\n",
        "index2word = {}\n",
        "for key, value in word2index.items():\n",
        "  index2word[value] = key\n",
        "\n",
        "word = stopwords.words('english')\n",
        "\n",
        "stopword_index = []\n",
        "for w in word:\n",
        "  if w in word2index:\n",
        "    stopword_index.append(word2index[w])\n",
        "  \n"
      ],
      "execution_count": 0,
      "outputs": []
    },
    {
      "cell_type": "code",
      "metadata": {
        "id": "OktEImiOD4fe",
        "colab_type": "code",
        "colab": {}
      },
      "source": [
        "def delete_stopwords(data, stopword):\n",
        "  print('processing')\n",
        "  for i in range(25000):\n",
        "    for j in range(len(data[i])-1,-1,-1):\n",
        "      if data[i][j] in stopword:\n",
        "        print(j)\n",
        "        data[i].pop(j)\n",
        "        \n",
        "  \n",
        "  return data\n"
      ],
      "execution_count": 0,
      "outputs": []
    },
    {
      "cell_type": "code",
      "metadata": {
        "id": "qVf90XtbD79J",
        "colab_type": "code",
        "colab": {}
      },
      "source": [
        "train_without_stopwords = delete_stopwords(train_data, stopword_index)\n",
        "test_without_stopwords = delete_stopwords(test_data, stopword_index)"
      ],
      "execution_count": 0,
      "outputs": []
    },
    {
      "cell_type": "code",
      "metadata": {
        "id": "bRzHNM4dD8em",
        "colab_type": "code",
        "colab": {}
      },
      "source": [
        "original = ' '.join([index2word[x] for x in train_data[0]])\n",
        "original"
      ],
      "execution_count": 0,
      "outputs": []
    },
    {
      "cell_type": "code",
      "metadata": {
        "id": "-j06pCp4ECH4",
        "colab_type": "code",
        "colab": {}
      },
      "source": [
        "import numpy as np\n",
        "def vectorize_sequences(sequences, dimension = 10000):\n",
        "    results = np.zeros((len(sequences), dimension))\n",
        "    for i, sequence in enumerate(sequences):\n",
        "        results[1, sequence] = 1.\n",
        "    return results"
      ],
      "execution_count": 0,
      "outputs": []
    },
    {
      "cell_type": "code",
      "metadata": {
        "id": "CC_H9BFtEDy1",
        "colab_type": "code",
        "colab": {}
      },
      "source": [
        "x_train = vectorize_sequences(train_data)\n",
        "x_test = vectorize_sequences(test_data)\n",
        "\n",
        "y_train = np.asarray(train_labels).astype('float32')\n",
        "y_test= np.asarray(test_labels).astype('float32')"
      ],
      "execution_count": 0,
      "outputs": []
    },
    {
      "cell_type": "markdown",
      "metadata": {
        "id": "HuyWb5qcEb_j",
        "colab_type": "text"
      },
      "source": [
        "## try 1 : Using LSTM\n"
      ]
    },
    {
      "cell_type": "code",
      "metadata": {
        "id": "0VynlF1bEGUW",
        "colab_type": "code",
        "colab": {}
      },
      "source": [
        "from tensorflow.keras.preprocessing.sequence import pad_sequences\n",
        "from tensorflow.keras.layers import LSTM, Embedding\n",
        "from tensorflow.keras.callbacks import EarlyStopping, ModelCheckpoint\n",
        "from tensorflow.keras.models import load_model"
      ],
      "execution_count": 0,
      "outputs": []
    },
    {
      "cell_type": "code",
      "metadata": {
        "id": "JuDQLX5MEUXp",
        "colab_type": "code",
        "colab": {}
      },
      "source": [
        "model = Sequential()\n",
        "model.add(Embedding(10000, 60))\n",
        "model.add(LSTM(60))\n",
        "model.add(Dense(1, activation = 'sigmoid'))"
      ],
      "execution_count": 0,
      "outputs": []
    },
    {
      "cell_type": "code",
      "metadata": {
        "id": "K5x_WC8MEZWs",
        "colab_type": "code",
        "colab": {}
      },
      "source": [
        "model.compile(loss = 'binary_crossentropy', optimizer = 'adam', metrics =['acc'])\n",
        "history = model.fit(partial_x_train, partial_y_train, validation_data = (x_val, y_val), epochs = 10, batch_size =64, callbacks = [es,mc])"
      ],
      "execution_count": 0,
      "outputs": []
    },
    {
      "cell_type": "markdown",
      "metadata": {
        "id": "EqTMXhe4Eig8",
        "colab_type": "text"
      },
      "source": [
        "## Use Convolution Layers"
      ]
    },
    {
      "cell_type": "code",
      "metadata": {
        "id": "gHaEs7C5xQj1",
        "colab_type": "code",
        "colab": {}
      },
      "source": [
        "from tensorflow.keras.layers import  Activation\n",
        "from tensorflow.keras.utils import get_custom_objects\n",
        "import tensorflow.keras.backend as K\n",
        "import tensorflow as tf\n",
        "class Mish(Activation):\n",
        "    def __init__(self, activation, **kwargs):\n",
        "        super(Mish, self).__init__(activation, **kwargs)\n",
        "        self.__name__ = 'Mish'\n",
        "\n",
        "\n",
        "def mish(x):\n",
        "    return x * K.tanh(K.softplus(x))\n",
        "\n",
        "get_custom_objects().update({'mish': Mish(mish)})"
      ],
      "execution_count": 0,
      "outputs": []
    },
    {
      "cell_type": "code",
      "metadata": {
        "id": "En1Z0kozuRu-",
        "colab_type": "code",
        "outputId": "47e71368-e008-4ea8-af89-85c206e34572",
        "colab": {
          "base_uri": "https://localhost:8080/",
          "height": 34
        }
      },
      "source": [
        "\"\"\"\n",
        "Convolution\n",
        "\"\"\"\n",
        "\n",
        "from keras.datasets import imdb\n",
        "from keras.preprocessing import sequence\n",
        "from keras.models import Sequential\n",
        "from keras.layers import Dense, Embedding, LSTM\n",
        "from keras.layers import Flatten, Dropout\n",
        "from keras.layers import Conv1D, GlobalMaxPooling1D\n",
        "\n",
        "max_features = 10000\n",
        "text_max_words = 200\n",
        "\n"
      ],
      "execution_count": 0,
      "outputs": [
        {
          "output_type": "stream",
          "text": [
            "Using TensorFlow backend.\n"
          ],
          "name": "stderr"
        }
      ]
    },
    {
      "cell_type": "code",
      "metadata": {
        "id": "8qalfd0YunL4",
        "colab_type": "code",
        "colab": {}
      },
      "source": [
        "%matplotlib inline\n",
        "import matplotlib.pyplot as plt\n"
      ],
      "execution_count": 0,
      "outputs": []
    },
    {
      "cell_type": "code",
      "metadata": {
        "id": "f4Cnfm-U3-on",
        "colab_type": "code",
        "outputId": "427051a0-8039-4e52-d950-606f98c7a483",
        "colab": {
          "base_uri": "https://localhost:8080/",
          "height": 745
        }
      },
      "source": [
        "from keras.datasets import imdb\n",
        "(train_data, train_labels), (test_data, test_labels) = imdb.load_data(num_words = max_features)\n",
        "\n",
        "import numpy as np\n",
        "def vectorize_sequence(sequences, dimension = 10000):\n",
        "  results = np.zeros((len(sequences), dimension))\n",
        "  for i, sequence in enumerate(sequences):\n",
        "    results[i, sequence] =1.\n",
        "  return results\n",
        "\n",
        "\n",
        "x_train = vectorize_sequence(train_data)\n",
        "x_test = vectorize_sequence(test_data)\n",
        "\n",
        "y_train = np.asarray(train_labels).astype('float32')\n",
        "y_text = np.asarray(test_labels).astype('float32')\n",
        "\n",
        "model = Sequential()\n",
        "model.add(Dense(16, activation = 'relu',input_shape = (10000,)))\n",
        "model.add(Dense(16, activation ='relu'))\n",
        "model.add(Dense(1, activation ='sigmoid'))\n",
        "\n",
        "model.compile(optimizer ='rmsprop', loss='binary_crossentropy', metrics=['accuracy'])\n",
        "\n",
        "x_val = x_train[:10000]\n",
        "partial_x_train = x_train[10000:]\n",
        "\n",
        "y_val = y_train[:10000]\n",
        "partial_y_train = y_train[10000:]\n",
        "\n",
        "history = model.fit(partial_x_train, partial_y_train, epochs=20, batch_size = 512, validation_data = (x_val, y_val))"
      ],
      "execution_count": 0,
      "outputs": [
        {
          "output_type": "stream",
          "text": [
            "Train on 15000 samples, validate on 10000 samples\n",
            "Epoch 1/20\n",
            "15000/15000 [==============================] - 1s 99us/step - loss: 0.5294 - accuracy: 0.7751 - val_loss: 0.4226 - val_accuracy: 0.8449\n",
            "Epoch 2/20\n",
            "15000/15000 [==============================] - 1s 90us/step - loss: 0.3139 - accuracy: 0.9017 - val_loss: 0.3138 - val_accuracy: 0.8818\n",
            "Epoch 3/20\n",
            "15000/15000 [==============================] - 1s 90us/step - loss: 0.2268 - accuracy: 0.9279 - val_loss: 0.2851 - val_accuracy: 0.8894\n",
            "Epoch 4/20\n",
            "15000/15000 [==============================] - 1s 93us/step - loss: 0.1772 - accuracy: 0.9447 - val_loss: 0.2955 - val_accuracy: 0.8802\n",
            "Epoch 5/20\n",
            "15000/15000 [==============================] - 1s 89us/step - loss: 0.1450 - accuracy: 0.9556 - val_loss: 0.2862 - val_accuracy: 0.8855\n",
            "Epoch 6/20\n",
            "15000/15000 [==============================] - 1s 92us/step - loss: 0.1167 - accuracy: 0.9660 - val_loss: 0.2927 - val_accuracy: 0.8852\n",
            "Epoch 7/20\n",
            "15000/15000 [==============================] - 1s 91us/step - loss: 0.0956 - accuracy: 0.9737 - val_loss: 0.3078 - val_accuracy: 0.8849\n",
            "Epoch 8/20\n",
            "15000/15000 [==============================] - 1s 89us/step - loss: 0.0795 - accuracy: 0.9789 - val_loss: 0.3469 - val_accuracy: 0.8780\n",
            "Epoch 9/20\n",
            "15000/15000 [==============================] - 1s 90us/step - loss: 0.0627 - accuracy: 0.9847 - val_loss: 0.3499 - val_accuracy: 0.8800\n",
            "Epoch 10/20\n",
            "15000/15000 [==============================] - 1s 91us/step - loss: 0.0531 - accuracy: 0.9875 - val_loss: 0.3757 - val_accuracy: 0.8768\n",
            "Epoch 11/20\n",
            "15000/15000 [==============================] - 1s 91us/step - loss: 0.0437 - accuracy: 0.9899 - val_loss: 0.4053 - val_accuracy: 0.8769\n",
            "Epoch 12/20\n",
            "15000/15000 [==============================] - 1s 90us/step - loss: 0.0359 - accuracy: 0.9929 - val_loss: 0.4275 - val_accuracy: 0.8741\n",
            "Epoch 13/20\n",
            "15000/15000 [==============================] - 1s 90us/step - loss: 0.0240 - accuracy: 0.9968 - val_loss: 0.4815 - val_accuracy: 0.8704\n",
            "Epoch 14/20\n",
            "15000/15000 [==============================] - 1s 90us/step - loss: 0.0232 - accuracy: 0.9961 - val_loss: 0.4870 - val_accuracy: 0.8703\n",
            "Epoch 15/20\n",
            "15000/15000 [==============================] - 1s 89us/step - loss: 0.0163 - accuracy: 0.9983 - val_loss: 0.5835 - val_accuracy: 0.8626\n",
            "Epoch 16/20\n",
            "15000/15000 [==============================] - 1s 89us/step - loss: 0.0145 - accuracy: 0.9978 - val_loss: 0.5494 - val_accuracy: 0.8670\n",
            "Epoch 17/20\n",
            "15000/15000 [==============================] - 1s 89us/step - loss: 0.0120 - accuracy: 0.9984 - val_loss: 0.5799 - val_accuracy: 0.8681\n",
            "Epoch 18/20\n",
            "15000/15000 [==============================] - 1s 90us/step - loss: 0.0061 - accuracy: 0.9996 - val_loss: 0.6244 - val_accuracy: 0.8651\n",
            "Epoch 19/20\n",
            "15000/15000 [==============================] - 1s 91us/step - loss: 0.0075 - accuracy: 0.9989 - val_loss: 0.6508 - val_accuracy: 0.8643\n",
            "Epoch 20/20\n",
            "15000/15000 [==============================] - 1s 89us/step - loss: 0.0033 - accuracy: 0.9998 - val_loss: 0.6936 - val_accuracy: 0.8638\n"
          ],
          "name": "stdout"
        }
      ]
    },
    {
      "cell_type": "code",
      "metadata": {
        "id": "RbNl9DEu6O52",
        "colab_type": "code",
        "outputId": "127cabf1-98b9-4c43-fe9e-4980057c337d",
        "colab": {
          "base_uri": "https://localhost:8080/",
          "height": 52
        }
      },
      "source": [
        "results = model.evaluate(x_test, y_test)\n",
        "print(results)"
      ],
      "execution_count": 0,
      "outputs": [
        {
          "output_type": "stream",
          "text": [
            "25000/25000 [==============================] - 2s 76us/step\n",
            "[0.7651928672266006, 0.8475599884986877]\n"
          ],
          "name": "stdout"
        }
      ]
    },
    {
      "cell_type": "code",
      "metadata": {
        "id": "WFwfosIs1WC0",
        "colab_type": "code",
        "outputId": "39acf2fa-5670-4de2-c73a-ee3157a0c3de",
        "colab": {
          "base_uri": "https://localhost:8080/",
          "height": 1000
        }
      },
      "source": [
        "\n",
        "(x_train, y_train), (x_test, y_test) = imdb.load_data(num_words=max_features)\n",
        "\n",
        "x_val = x_train[7500:]\n",
        "y_val = y_train[7500:]\n",
        "x_train = x_train[:7500]\n",
        "y_train = y_train[:7500]\n",
        "\n",
        "# padding\n",
        "x_train = sequence.pad_sequences(x_train, maxlen=text_max_words)\n",
        "x_val = sequence.pad_sequences(x_val, maxlen=text_max_words)\n",
        "x_test = sequence.pad_sequences(x_test, maxlen=text_max_words)\n",
        "\n",
        "# asemble the layers\n",
        "model = Sequential()\n",
        "model.add(Embedding(max_features, 128, input_length=text_max_words))\n",
        "model.add(Dropout(0.2))\n",
        "model.add(Conv1D(256,3,padding='valid',activation='relu',strides=1))\n",
        "model.add(GlobalMaxPooling1D())\n",
        "model.add(Dense(128, activation='relu'))\n",
        "model.add(Dropout(0.2))\n",
        "model.add(Dense(64, activation='relu'))\n",
        "model.add(Dropout(0.2))\n",
        "model.add(Dense(32, activation='relu'))\n",
        "model.add(Dropout(0.2))\n",
        "model.add(Dense(1, activation='sigmoid'))\n",
        "\n",
        "\n",
        "model.compile(loss='binary_crossentropy', optimizer='adam', metrics=['accuracy'])\n",
        "\n",
        "# 4. training model\n",
        "history = model.fit(x_train, y_train, epochs=20, batch_size=512, validation_data=(x_val, y_val))\n",
        "\n",
        "# Plotting the history\n",
        "%matplotlib inline\n",
        "import matplotlib.pyplot as plt\n",
        "\n",
        "history_dict = history.history\n",
        "loss = history_dict['loss']\n",
        "val_loss = history_dict['val_loss']\n",
        "\n",
        "epochs = range(1, len(loss) + 1)\n",
        "\n",
        "plt.plot(epochs, loss, 'bo', label = 'Training loss')\n",
        "plt.plot(epochs, val_loss, 'b', label = 'Validatin loss')\n",
        "\n",
        "plt.show()\n",
        "\n",
        "# evaluation\n",
        "loss_and_metrics = model.evaluate(x_test, y_test, batch_size=32)\n",
        "print('## evaluation loss and_metrics ##')\n",
        "print(loss_and_metrics)\n",
        "\n",
        "results = model.evaluate(x_test, y_test)\n",
        "print(results)"
      ],
      "execution_count": 0,
      "outputs": [
        {
          "output_type": "stream",
          "text": [
            "/usr/local/lib/python3.6/dist-packages/tensorflow/python/framework/indexed_slices.py:434: UserWarning: Converting sparse IndexedSlices to a dense Tensor of unknown shape. This may consume a large amount of memory.\n",
            "  \"Converting sparse IndexedSlices to a dense Tensor of unknown shape. \"\n"
          ],
          "name": "stderr"
        },
        {
          "output_type": "stream",
          "text": [
            "Train on 7500 samples, validate on 17500 samples\n",
            "Epoch 1/20\n",
            "7500/7500 [==============================] - 2s 201us/step - loss: 0.6931 - accuracy: 0.5116 - val_loss: 0.6923 - val_accuracy: 0.5029\n",
            "Epoch 2/20\n",
            "7500/7500 [==============================] - 1s 101us/step - loss: 0.6909 - accuracy: 0.5297 - val_loss: 0.6873 - val_accuracy: 0.5009\n",
            "Epoch 3/20\n",
            "7500/7500 [==============================] - 1s 101us/step - loss: 0.6736 - accuracy: 0.6016 - val_loss: 0.6355 - val_accuracy: 0.7762\n",
            "Epoch 4/20\n",
            "7500/7500 [==============================] - 1s 101us/step - loss: 0.5586 - accuracy: 0.7551 - val_loss: 0.4574 - val_accuracy: 0.7967\n",
            "Epoch 5/20\n",
            "7500/7500 [==============================] - 1s 101us/step - loss: 0.3762 - accuracy: 0.8421 - val_loss: 0.3626 - val_accuracy: 0.8414\n",
            "Epoch 6/20\n",
            "7500/7500 [==============================] - 1s 102us/step - loss: 0.2262 - accuracy: 0.9159 - val_loss: 0.3489 - val_accuracy: 0.8513\n",
            "Epoch 7/20\n",
            "7500/7500 [==============================] - 1s 101us/step - loss: 0.1203 - accuracy: 0.9640 - val_loss: 0.3776 - val_accuracy: 0.8617\n",
            "Epoch 8/20\n",
            "7500/7500 [==============================] - 1s 102us/step - loss: 0.0546 - accuracy: 0.9859 - val_loss: 0.4262 - val_accuracy: 0.8625\n",
            "Epoch 9/20\n",
            "7500/7500 [==============================] - 1s 101us/step - loss: 0.0267 - accuracy: 0.9953 - val_loss: 0.4401 - val_accuracy: 0.8614\n",
            "Epoch 10/20\n",
            "7500/7500 [==============================] - 1s 101us/step - loss: 0.0125 - accuracy: 0.9973 - val_loss: 0.5023 - val_accuracy: 0.8651\n",
            "Epoch 11/20\n",
            "7500/7500 [==============================] - 1s 102us/step - loss: 0.0064 - accuracy: 0.9992 - val_loss: 0.5342 - val_accuracy: 0.8642\n",
            "Epoch 12/20\n",
            "7500/7500 [==============================] - 1s 101us/step - loss: 0.0044 - accuracy: 0.9996 - val_loss: 0.5834 - val_accuracy: 0.8625\n",
            "Epoch 13/20\n",
            "7500/7500 [==============================] - 1s 102us/step - loss: 0.0039 - accuracy: 0.9993 - val_loss: 0.6292 - val_accuracy: 0.8605\n",
            "Epoch 14/20\n",
            "7500/7500 [==============================] - 1s 101us/step - loss: 0.0028 - accuracy: 0.9996 - val_loss: 0.6347 - val_accuracy: 0.8622\n",
            "Epoch 15/20\n",
            "7500/7500 [==============================] - 1s 101us/step - loss: 0.0021 - accuracy: 0.9997 - val_loss: 0.6181 - val_accuracy: 0.8656\n",
            "Epoch 16/20\n",
            "7500/7500 [==============================] - 1s 102us/step - loss: 0.0014 - accuracy: 1.0000 - val_loss: 0.6313 - val_accuracy: 0.8658\n",
            "Epoch 17/20\n",
            "7500/7500 [==============================] - 1s 102us/step - loss: 0.0013 - accuracy: 0.9997 - val_loss: 0.6565 - val_accuracy: 0.8646\n",
            "Epoch 18/20\n",
            "7500/7500 [==============================] - 1s 101us/step - loss: 9.1096e-04 - accuracy: 1.0000 - val_loss: 0.6708 - val_accuracy: 0.8646\n",
            "Epoch 19/20\n",
            "7500/7500 [==============================] - 1s 102us/step - loss: 8.6111e-04 - accuracy: 0.9999 - val_loss: 0.6895 - val_accuracy: 0.8639\n",
            "Epoch 20/20\n",
            "7500/7500 [==============================] - 1s 101us/step - loss: 9.9315e-04 - accuracy: 0.9997 - val_loss: 0.7203 - val_accuracy: 0.8633\n"
          ],
          "name": "stdout"
        },
        {
          "output_type": "display_data",
          "data": {
            "image/png": "[encoded data removed]",
            "text/plain": [
              "<Figure size 432x288 with 1 Axes>"
            ]
          },
          "metadata": {
            "tags": [],
            "needs_background": "light"
          }
        },
        {
          "output_type": "stream",
          "text": [
            "25000/25000 [==============================] - 1s 55us/step\n",
            "## evaluation loss and_metrics ##\n",
            "[0.7129896214261651, 0.8575999736785889]\n",
            "25000/25000 [==============================] - 2s 61us/step\n",
            "[0.7129896214261651, 0.8575999736785889]\n"
          ],
          "name": "stdout"
        }
      ]
    },
    {
      "cell_type": "code",
      "metadata": {
        "id": "TOO-QJSn1dHc",
        "colab_type": "code",
        "outputId": "58d16496-3ecd-425a-b32f-1d770e4a08e1",
        "colab": {
          "base_uri": "https://localhost:8080/",
          "height": 372
        }
      },
      "source": [
        "(x_train, y_train), (x_test, y_test) = imdb.load_data(num_words=max_features)\n",
        "\n",
        "x_val = x_train[20000:]\n",
        "y_val = y_train[20000:]\n",
        "x_train = x_train[:20000]\n",
        "y_train = y_train[:20000]\n",
        "\n",
        "# padding\n",
        "x_train = sequence.pad_sequences(x_train, maxlen=text_max_words)\n",
        "x_val = sequence.pad_sequences(x_val, maxlen=text_max_words)\n",
        "x_test = sequence.pad_sequences(x_test, maxlen=text_max_words)\n",
        "\n",
        "# asemble the layers\n",
        "model = Sequential()\n",
        "model.add(Embedding(max_features, 128, input_length=text_max_words))\n",
        "model.add(Dropout(0.2))\n",
        "model.add(Conv1D(256,3,padding='valid',activation='relu',strides=1))\n",
        "model.add(GlobalMaxPooling1D())\n",
        "model.add(Dense(128, activation='relu'))\n",
        "model.add(Dropout(0.2))\n",
        "model.add(Dense(64, activation='relu'))\n",
        "model.add(Dropout(0.2))\n",
        "model.add(Dense(32, activation='relu'))\n",
        "model.add(Dropout(0.2))\n",
        "model.add(Dense(1, activation='sigmoid'))\n",
        "\n",
        "\n",
        "model.compile(loss='binary_crossentropy', optimizer='adam', metrics=['accuracy'])\n",
        "\n",
        "# 4. training model\n",
        "history = model.fit(x_train, y_train, epochs=5, batch_size=32, validation_data=(x_val, y_val))\n",
        "\n",
        "# evaluation\n",
        "loss_and_metrics = model.evaluate(x_test, y_test, batch_size=32)\n",
        "print('## evaluation loss and_metrics ##')\n",
        "print(loss_and_metrics)\n",
        "\n",
        "results = model.evaluate(x_test, y_test)\n",
        "print(results)"
      ],
      "execution_count": 0,
      "outputs": [
        {
          "output_type": "stream",
          "text": [
            "Downloading data from https://s3.amazonaws.com/text-datasets/imdb.npz\n",
            "17465344/17464789 [==============================] - 3s 0us/step\n"
          ],
          "name": "stdout"
        },
        {
          "output_type": "stream",
          "text": [
            "/usr/local/lib/python3.6/dist-packages/tensorflow/python/framework/indexed_slices.py:434: UserWarning: Converting sparse IndexedSlices to a dense Tensor of unknown shape. This may consume a large amount of memory.\n",
            "  \"Converting sparse IndexedSlices to a dense Tensor of unknown shape. \"\n"
          ],
          "name": "stderr"
        },
        {
          "output_type": "stream",
          "text": [
            "Train on 20000 samples, validate on 5000 samples\n",
            "Epoch 1/5\n",
            "20000/20000 [==============================] - 11s 554us/step - loss: 0.4547 - accuracy: 0.7648 - val_loss: 0.2926 - val_accuracy: 0.8814\n",
            "Epoch 2/5\n",
            "20000/20000 [==============================] - 4s 193us/step - loss: 0.2386 - accuracy: 0.9085 - val_loss: 0.2752 - val_accuracy: 0.8872\n",
            "Epoch 3/5\n",
            "20000/20000 [==============================] - 4s 195us/step - loss: 0.1247 - accuracy: 0.9562 - val_loss: 0.3218 - val_accuracy: 0.8870\n",
            "Epoch 4/5\n",
            "20000/20000 [==============================] - 4s 203us/step - loss: 0.0611 - accuracy: 0.9797 - val_loss: 0.3884 - val_accuracy: 0.8780\n",
            "Epoch 5/5\n",
            "20000/20000 [==============================] - 4s 197us/step - loss: 0.0410 - accuracy: 0.9868 - val_loss: 0.4830 - val_accuracy: 0.8738\n",
            "25000/25000 [==============================] - 1s 53us/step\n",
            "## evaluation loss and_metrics ##\n",
            "[0.4927727150714397, 0.8703200221061707]\n",
            "25000/25000 [==============================] - 1s 56us/step\n",
            "[0.4927727150714397, 0.8703200221061707]\n"
          ],
          "name": "stdout"
        }
      ]
    },
    {
      "cell_type": "code",
      "metadata": {
        "id": "e8jQY4eMCdfZ",
        "colab_type": "code",
        "outputId": "019aea3b-d64c-40a8-cfdc-516781788f5a",
        "colab": {
          "base_uri": "https://localhost:8080/",
          "height": 355
        }
      },
      "source": [
        "\n",
        "history_dict = history.history\n",
        "loss = history_dict['loss']\n",
        "val_loss = history_dict['val_loss']\n",
        "\n",
        "epochs = range(1, len(loss) + 1)\n",
        "\n",
        "plt.plot(epochs, loss, 'bo', label = 'Training loss')\n",
        "plt.plot(epochs, val_loss, 'b', label = 'Validatin loss')\n",
        "\n",
        "plt.show()\n",
        "\n",
        "# evaluation\n",
        "loss_and_metrics = model.evaluate(x_test, y_test, batch_size=32)\n",
        "print('## evaluation loss and_metrics ##')\n",
        "print(loss_and_metrics)\n",
        "\n",
        "results = model.evaluate(x_test, y_test)\n",
        "print(results)"
      ],
      "execution_count": 0,
      "outputs": [
        {
          "output_type": "display_data",
          "data": {
            "image/png": "[encoded data removed]",
            "text/plain": [
              "<Figure size 432x288 with 1 Axes>"
            ]
          },
          "metadata": {
            "tags": [],
            "needs_background": "light"
          }
        },
        {
          "output_type": "stream",
          "text": [
            "25000/25000 [==============================] - 2s 62us/step\n",
            "## evaluation loss and_metrics ##\n",
            "[0.4927727150714397, 0.8703200221061707]\n",
            "25000/25000 [==============================] - 2s 63us/step\n",
            "[0.4927727150714397, 0.8703200221061707]\n"
          ],
          "name": "stdout"
        }
      ]
    },
    {
      "cell_type": "code",
      "metadata": {
        "id": "aNeHcrRRCfas",
        "colab_type": "code",
        "outputId": "f5cb0246-d563-4215-9a9c-7ebeb01a41c1",
        "colab": {
          "base_uri": "https://localhost:8080/",
          "height": 673
        }
      },
      "source": [
        "(x_train, y_train), (x_test, y_test) = imdb.load_data(num_words=max_features)\n",
        "\n",
        "x_val = x_train[20000:]\n",
        "y_val = y_train[20000:]\n",
        "x_train = x_train[:20000]\n",
        "y_train = y_train[:20000]\n",
        "\n",
        "# padding\n",
        "x_train = sequence.pad_sequences(x_train, maxlen=text_max_words)\n",
        "x_val = sequence.pad_sequences(x_val, maxlen=text_max_words)\n",
        "x_test = sequence.pad_sequences(x_test, maxlen=text_max_words)\n",
        "\n",
        "# asemble the layers\n",
        "model = Sequential()\n",
        "model.add(Embedding(max_features, 128, input_length=text_max_words))\n",
        "model.add(Dropout(0.2))\n",
        "model.add(Conv1D(128,3,padding='valid',activation='relu',strides=1))\n",
        "model.add(GlobalMaxPooling1D())\n",
        "model.add(Dense(128, activation='relu'))\n",
        "model.add(Dropout(0.2))\n",
        "model.add(Dense(64, activation='relu'))\n",
        "model.add(Dropout(0.2))\n",
        "model.add(Dense(64, activation='relu'))\n",
        "model.add(Dropout(0.2))\n",
        "model.add(Dense(32, activation='relu'))\n",
        "model.add(Dropout(0.2))\n",
        "model.add(Dense(1, activation='sigmoid'))\n",
        "\n",
        "\n",
        "model.compile(loss='binary_crossentropy', optimizer='adam', metrics=['accuracy'])\n",
        "\n",
        "# 4. training model\n",
        "history = model.fit(x_train, y_train, epochs=5, batch_size=32, validation_data=(x_val, y_val))\n",
        "\n",
        "# evaluation\n",
        "loss_and_metrics = model.evaluate(x_test, y_test, batch_size=32)\n",
        "print('## evaluation loss and_metrics ##')\n",
        "print(loss_and_metrics)\n",
        "\n",
        "results = model.evaluate(x_test, y_test)\n",
        "print(results)\n",
        "\n",
        "\n",
        "history_dict = history.history\n",
        "loss = history_dict['loss']\n",
        "val_loss = history_dict['val_loss']\n",
        "\n",
        "epochs = range(1, len(loss) + 1)\n",
        "\n",
        "plt.plot(epochs, loss, 'bo', label = 'Training loss')\n",
        "plt.plot(epochs, val_loss, 'b', label = 'Validatin loss')\n",
        "\n",
        "plt.show()\n",
        "\n",
        "# evaluation\n",
        "loss_and_metrics = model.evaluate(x_test, y_test, batch_size=32)\n",
        "print('## evaluation loss and_metrics ##')\n",
        "print(loss_and_metrics)\n",
        "\n",
        "results = model.evaluate(x_test, y_test)\n",
        "print(results)"
      ],
      "execution_count": 0,
      "outputs": [
        {
          "output_type": "stream",
          "text": [
            "/usr/local/lib/python3.6/dist-packages/tensorflow/python/framework/indexed_slices.py:434: UserWarning: Converting sparse IndexedSlices to a dense Tensor of unknown shape. This may consume a large amount of memory.\n",
            "  \"Converting sparse IndexedSlices to a dense Tensor of unknown shape. \"\n"
          ],
          "name": "stderr"
        },
        {
          "output_type": "stream",
          "text": [
            "Train on 20000 samples, validate on 5000 samples\n",
            "Epoch 1/5\n",
            "20000/20000 [==============================] - 4s 209us/step - loss: 0.5051 - accuracy: 0.7207 - val_loss: 0.3002 - val_accuracy: 0.8692\n",
            "Epoch 2/5\n",
            "20000/20000 [==============================] - 4s 187us/step - loss: 0.2502 - accuracy: 0.9055 - val_loss: 0.2843 - val_accuracy: 0.8846\n",
            "Epoch 3/5\n",
            "20000/20000 [==============================] - 4s 190us/step - loss: 0.1277 - accuracy: 0.9556 - val_loss: 0.3454 - val_accuracy: 0.8822\n",
            "Epoch 4/5\n",
            "20000/20000 [==============================] - 4s 193us/step - loss: 0.0663 - accuracy: 0.9784 - val_loss: 0.4025 - val_accuracy: 0.8812\n",
            "Epoch 5/5\n",
            "20000/20000 [==============================] - 4s 193us/step - loss: 0.0372 - accuracy: 0.9868 - val_loss: 0.5375 - val_accuracy: 0.8770\n",
            "25000/25000 [==============================] - 1s 47us/step\n",
            "## evaluation loss and_metrics ##\n",
            "[0.5124614820683002, 0.8762800097465515]\n",
            "25000/25000 [==============================] - 1s 53us/step\n",
            "[0.5124614820683002, 0.8762800097465515]\n"
          ],
          "name": "stdout"
        },
        {
          "output_type": "display_data",
          "data": {
            "image/png": "[encoded data removed]",
            "text/plain": [
              "<Figure size 432x288 with 1 Axes>"
            ]
          },
          "metadata": {
            "tags": [],
            "needs_background": "light"
          }
        },
        {
          "output_type": "stream",
          "text": [
            "25000/25000 [==============================] - 1s 53us/step\n",
            "## evaluation loss and_metrics ##\n",
            "[0.5124614820683002, 0.8762800097465515]\n",
            "25000/25000 [==============================] - 1s 57us/step\n",
            "[0.5124614820683002, 0.8762800097465515]\n"
          ],
          "name": "stdout"
        }
      ]
    },
    {
      "cell_type": "code",
      "metadata": {
        "id": "Nf4OnpPPvp3e",
        "colab_type": "code",
        "outputId": "df4c88de-415c-4b60-8d3c-31d7f223c2ea",
        "colab": {
          "base_uri": "https://localhost:8080/",
          "height": 673
        }
      },
      "source": [
        "(x_train, y_train), (x_test, y_test) = imdb.load_data(num_words=max_features)\n",
        "\n",
        "x_val = x_train[20000:]\n",
        "y_val = y_train[20000:]\n",
        "x_train = x_train[:20000]\n",
        "y_train = y_train[:20000]\n",
        "\n",
        "# padding\n",
        "x_train = sequence.pad_sequences(x_train, maxlen=text_max_words)\n",
        "x_val = sequence.pad_sequences(x_val, maxlen=text_max_words)\n",
        "x_test = sequence.pad_sequences(x_test, maxlen=text_max_words)\n",
        "\n",
        "# asemble the layers\n",
        "model = Sequential()\n",
        "model.add(Embedding(max_features, 128, input_length=text_max_words))\n",
        "model.add(Dropout(0.4))\n",
        "model.add(Conv1D(256,3,padding='valid',activation='relu',strides=1))\n",
        "model.add(GlobalMaxPooling1D())\n",
        "model.add(Dense(128, activation='relu'))\n",
        "model.add(Dropout(0.4))\n",
        "model.add(Dense(64, activation='relu'))\n",
        "model.add(Dropout(0.2))\n",
        "model.add(Dense(64, activation='relu'))\n",
        "model.add(Dropout(0.2))\n",
        "model.add(Dense(32, activation='relu'))\n",
        "model.add(Dropout(0.2))\n",
        "model.add(Dense(1, activation='sigmoid'))\n",
        "\n",
        "\n",
        "model.compile(loss='binary_crossentropy', optimizer='adam', metrics=['accuracy'])\n",
        "\n",
        "# 4. training model\n",
        "history = model.fit(x_train, y_train, epochs=5, batch_size=32, validation_data=(x_val, y_val))\n",
        "\n",
        "# evaluation\n",
        "loss_and_metrics = model.evaluate(x_test, y_test, batch_size=32)\n",
        "print('## evaluation loss and_metrics ##')\n",
        "print(loss_and_metrics)\n",
        "\n",
        "results = model.evaluate(x_test, y_test)\n",
        "print(results)\n",
        "\n",
        "\n",
        "history_dict = history.history\n",
        "loss = history_dict['loss']\n",
        "val_loss = history_dict['val_loss']\n",
        "\n",
        "epochs = range(1, len(loss) + 1)\n",
        "\n",
        "plt.plot(epochs, loss, 'bo', label = 'Training loss')\n",
        "plt.plot(epochs, val_loss, 'b', label = 'Validatin loss')\n",
        "\n",
        "plt.show()\n",
        "\n",
        "# evaluation\n",
        "loss_and_metrics = model.evaluate(x_test, y_test, batch_size=32)\n",
        "print('## evaluation loss and_metrics ##')\n",
        "print(loss_and_metrics)\n",
        "\n",
        "results = model.evaluate(x_test, y_test)\n",
        "print(results)"
      ],
      "execution_count": 0,
      "outputs": [
        {
          "output_type": "stream",
          "text": [
            "/usr/local/lib/python3.6/dist-packages/tensorflow/python/framework/indexed_slices.py:434: UserWarning: Converting sparse IndexedSlices to a dense Tensor of unknown shape. This may consume a large amount of memory.\n",
            "  \"Converting sparse IndexedSlices to a dense Tensor of unknown shape. \"\n"
          ],
          "name": "stderr"
        },
        {
          "output_type": "stream",
          "text": [
            "Train on 20000 samples, validate on 5000 samples\n",
            "Epoch 1/5\n",
            "20000/20000 [==============================] - 5s 231us/step - loss: 0.6020 - accuracy: 0.6332 - val_loss: 0.3798 - val_accuracy: 0.8402\n",
            "Epoch 2/5\n",
            "20000/20000 [==============================] - 4s 223us/step - loss: 0.3316 - accuracy: 0.8644 - val_loss: 0.2923 - val_accuracy: 0.8772\n",
            "Epoch 3/5\n",
            "20000/20000 [==============================] - 5s 226us/step - loss: 0.2218 - accuracy: 0.9171 - val_loss: 0.2809 - val_accuracy: 0.8880\n",
            "Epoch 4/5\n",
            "20000/20000 [==============================] - 4s 211us/step - loss: 0.1472 - accuracy: 0.9475 - val_loss: 0.3217 - val_accuracy: 0.8860\n",
            "Epoch 5/5\n",
            "20000/20000 [==============================] - 4s 216us/step - loss: 0.1067 - accuracy: 0.9612 - val_loss: 0.3039 - val_accuracy: 0.8894\n",
            "25000/25000 [==============================] - 1s 55us/step\n",
            "## evaluation loss and_metrics ##\n",
            "[0.3228552157449722, 0.8745200037956238]\n",
            "25000/25000 [==============================] - 1s 55us/step\n",
            "[0.3228552157449722, 0.8745200037956238]\n"
          ],
          "name": "stdout"
        },
        {
          "output_type": "display_data",
          "data": {
            "image/png": "[encoded data removed]",
            "text/plain": [
              "<Figure size 432x288 with 1 Axes>"
            ]
          },
          "metadata": {
            "tags": [],
            "needs_background": "light"
          }
        },
        {
          "output_type": "stream",
          "text": [
            "25000/25000 [==============================] - 2s 61us/step\n",
            "## evaluation loss and_metrics ##\n",
            "[0.3228552157449722, 0.8745200037956238]\n",
            "25000/25000 [==============================] - 2s 60us/step\n",
            "[0.3228552157449722, 0.8745200037956238]\n"
          ],
          "name": "stdout"
        }
      ]
    },
    {
      "cell_type": "code",
      "metadata": {
        "id": "xdFtsk66v1ME",
        "colab_type": "code",
        "outputId": "5b56b68d-3550-4444-dc11-9e13e42afd67",
        "colab": {
          "base_uri": "https://localhost:8080/",
          "height": 674
        }
      },
      "source": [
        "(x_train, y_train), (x_test, y_test) = imdb.load_data(num_words=max_features)\n",
        "\n",
        "x_val = x_train[20000:]\n",
        "y_val = y_train[20000:]\n",
        "x_train = x_train[:20000]\n",
        "y_train = y_train[:20000]\n",
        "\n",
        "# padding\n",
        "x_train = sequence.pad_sequences(x_train, maxlen=text_max_words)\n",
        "x_val = sequence.pad_sequences(x_val, maxlen=text_max_words)\n",
        "x_test = sequence.pad_sequences(x_test, maxlen=text_max_words)\n",
        "\n",
        "# asemble the layers\n",
        "model = Sequential()\n",
        "model.add(Embedding(max_features, 128, input_length=text_max_words))\n",
        "model.add(Dropout(0.4))\n",
        "model.add(Conv1D(256,3,padding='valid',activation='relu',strides=1))\n",
        "model.add(GlobalMaxPooling1D())\n",
        "model.add(Dense(128, activation='relu'))\n",
        "model.add(Dropout(0.4))\n",
        "model.add(Dense(64, activation='relu'))\n",
        "model.add(Dropout(0.4))\n",
        "model.add(Dense(64, activation='relu'))\n",
        "model.add(Dropout(0.4))\n",
        "model.add(Dense(32, activation='relu'))\n",
        "model.add(Dropout(0.2))\n",
        "model.add(Dense(1, activation='sigmoid'))\n",
        "\n",
        "\n",
        "model.compile(loss='binary_crossentropy', optimizer='adam', metrics=['accuracy'])\n",
        "\n",
        "# 4. training model\n",
        "history = model.fit(x_train, y_train, epochs=5, batch_size=32, validation_data=(x_val, y_val))\n",
        "\n",
        "# evaluation\n",
        "loss_and_metrics = model.evaluate(x_test, y_test, batch_size=32)\n",
        "print('## evaluation loss and_metrics ##')\n",
        "print(loss_and_metrics)\n",
        "\n",
        "results = model.evaluate(x_test, y_test)\n",
        "print(results)\n",
        "\n",
        "\n",
        "history_dict = history.history\n",
        "loss = history_dict['loss']\n",
        "val_loss = history_dict['val_loss']\n",
        "\n",
        "epochs = range(1, len(loss) + 1)\n",
        "\n",
        "plt.plot(epochs, loss, 'bo', label = 'Training loss')\n",
        "plt.plot(epochs, val_loss, 'b', label = 'Validatin loss')\n",
        "\n",
        "plt.show()\n",
        "\n",
        "# evaluation\n",
        "loss_and_metrics = model.evaluate(x_test, y_test, batch_size=32)\n",
        "print('## evaluation loss and_metrics ##')\n",
        "print(loss_and_metrics)\n",
        "\n",
        "results = model.evaluate(x_test, y_test)\n",
        "print(results)"
      ],
      "execution_count": 0,
      "outputs": [
        {
          "output_type": "stream",
          "text": [
            "/usr/local/lib/python3.6/dist-packages/tensorflow/python/framework/indexed_slices.py:434: UserWarning: Converting sparse IndexedSlices to a dense Tensor of unknown shape. This may consume a large amount of memory.\n",
            "  \"Converting sparse IndexedSlices to a dense Tensor of unknown shape. \"\n"
          ],
          "name": "stderr"
        },
        {
          "output_type": "stream",
          "text": [
            "Train on 20000 samples, validate on 5000 samples\n",
            "Epoch 1/5\n",
            "20000/20000 [==============================] - 5s 234us/step - loss: 0.6825 - accuracy: 0.5279 - val_loss: 0.5447 - val_accuracy: 0.7338\n",
            "Epoch 2/5\n",
            "20000/20000 [==============================] - 4s 219us/step - loss: 0.3967 - accuracy: 0.8345 - val_loss: 0.3382 - val_accuracy: 0.8592\n",
            "Epoch 3/5\n",
            "20000/20000 [==============================] - 4s 218us/step - loss: 0.2605 - accuracy: 0.8981 - val_loss: 0.3118 - val_accuracy: 0.8746\n",
            "Epoch 4/5\n",
            "20000/20000 [==============================] - 4s 218us/step - loss: 0.1773 - accuracy: 0.9384 - val_loss: 0.3279 - val_accuracy: 0.8806\n",
            "Epoch 5/5\n",
            "20000/20000 [==============================] - 4s 213us/step - loss: 0.1235 - accuracy: 0.9572 - val_loss: 0.2983 - val_accuracy: 0.8858\n",
            "25000/25000 [==============================] - 1s 57us/step\n",
            "## evaluation loss and_metrics ##\n",
            "[0.31386012877941133, 0.8751999735832214]\n",
            "25000/25000 [==============================] - 1s 56us/step\n",
            "[0.31386012877941133, 0.8751999735832214]\n"
          ],
          "name": "stdout"
        },
        {
          "output_type": "display_data",
          "data": {
            "image/png": "[encoded data removed]",
            "text/plain": [
              "<Figure size 432x288 with 1 Axes>"
            ]
          },
          "metadata": {
            "tags": [],
            "needs_background": "light"
          }
        },
        {
          "output_type": "stream",
          "text": [
            "25000/25000 [==============================] - 1s 59us/step\n",
            "## evaluation loss and_metrics ##\n",
            "[0.31386012877941133, 0.8751999735832214]\n",
            "25000/25000 [==============================] - 2s 61us/step\n",
            "[0.31386012877941133, 0.8751999735832214]\n"
          ],
          "name": "stdout"
        }
      ]
    },
    {
      "cell_type": "code",
      "metadata": {
        "id": "FTt9LzcuwTrG",
        "colab_type": "code",
        "outputId": "cc590c02-0d31-48fe-d77a-1e9c1f3ee278",
        "colab": {
          "base_uri": "https://localhost:8080/",
          "height": 1000
        }
      },
      "source": [
        "(x_train, y_train), (x_test, y_test) = imdb.load_data(num_words=max_features)\n",
        "\n",
        "x_val = x_train[20000:]\n",
        "y_val = y_train[20000:]\n",
        "x_train = x_train[:20000]\n",
        "y_train = y_train[:20000]\n",
        "\n",
        "# padding\n",
        "x_train = sequence.pad_sequences(x_train, maxlen=text_max_words)\n",
        "x_val = sequence.pad_sequences(x_val, maxlen=text_max_words)\n",
        "x_test = sequence.pad_sequences(x_test, maxlen=text_max_words)\n",
        "\n",
        "# asemble the layers\n",
        "model = Sequential()\n",
        "model.add(Embedding(max_features, 128, input_length=text_max_words))\n",
        "model.add(Dropout(0.6))\n",
        "model.add(Conv1D(256,3,padding='valid',activation='relu',strides=1))\n",
        "model.add(GlobalMaxPooling1D())\n",
        "model.add(Dense(128, activation='relu'))\n",
        "model.add(Dropout(0.6))\n",
        "model.add(Dense(64, activation='relu'))\n",
        "model.add(Dropout(0.4))\n",
        "model.add(Dense(64, activation='relu'))\n",
        "model.add(Dropout(0.4))\n",
        "model.add(Dense(32, activation='relu'))\n",
        "model.add(Dropout(0,4))\n",
        "model.add(Dense(32, activation='relu'))\n",
        "model.add(Dropout(0,4))\n",
        "model.add(Dense(1, activation='sigmoid'))\n",
        "\n",
        "\n",
        "model.compile(loss='binary_crossentropy', optimizer='rmsprop', metrics=['accuracy'])\n",
        "\n",
        "# 4. training model\n",
        "history = model.fit(x_train, y_train, epochs=20, batch_size=32, validation_data=(x_val, y_val))\n",
        "\n",
        "# evaluation\n",
        "loss_and_metrics = model.evaluate(x_test, y_test, batch_size=32)\n",
        "print('## evaluation loss and_metrics ##')\n",
        "print(loss_and_metrics)\n",
        "\n",
        "results = model.evaluate(x_test, y_test)\n",
        "print(results)\n",
        "\n",
        "\n",
        "history_dict = history.history\n",
        "loss = history_dict['loss']\n",
        "val_loss = history_dict['val_loss']\n",
        "\n",
        "epochs = range(1, len(loss) + 1)\n",
        "\n",
        "plt.plot(epochs, loss, 'bo', label = 'Training loss')\n",
        "plt.plot(epochs, val_loss, 'b', label = 'Validatin loss')\n",
        "\n",
        "plt.show()\n",
        "\n",
        "# evaluation\n",
        "loss_and_metrics = model.evaluate(x_test, y_test, batch_size=32)\n",
        "print('## evaluation loss and_metrics ##')\n",
        "print(loss_and_metrics)\n",
        "\n",
        "results = model.evaluate(x_test, y_test)\n",
        "print(results)"
      ],
      "execution_count": 0,
      "outputs": [
        {
          "output_type": "stream",
          "text": [
            "/usr/local/lib/python3.6/dist-packages/tensorflow/python/framework/indexed_slices.py:434: UserWarning: Converting sparse IndexedSlices to a dense Tensor of unknown shape. This may consume a large amount of memory.\n",
            "  \"Converting sparse IndexedSlices to a dense Tensor of unknown shape. \"\n"
          ],
          "name": "stderr"
        },
        {
          "output_type": "stream",
          "text": [
            "Train on 20000 samples, validate on 5000 samples\n",
            "Epoch 1/20\n",
            "20000/20000 [==============================] - 5s 227us/step - loss: 0.6942 - accuracy: 0.5002 - val_loss: 0.6931 - val_accuracy: 0.4938\n",
            "Epoch 2/20\n",
            "20000/20000 [==============================] - 4s 199us/step - loss: 0.6485 - accuracy: 0.5958 - val_loss: 0.5644 - val_accuracy: 0.7276\n",
            "Epoch 3/20\n",
            "20000/20000 [==============================] - 4s 216us/step - loss: 0.4632 - accuracy: 0.7941 - val_loss: 0.5101 - val_accuracy: 0.7726\n",
            "Epoch 4/20\n",
            "20000/20000 [==============================] - 4s 203us/step - loss: 0.3924 - accuracy: 0.8316 - val_loss: 0.4568 - val_accuracy: 0.7998\n",
            "Epoch 5/20\n",
            "20000/20000 [==============================] - 4s 200us/step - loss: 0.3589 - accuracy: 0.8519 - val_loss: 0.3988 - val_accuracy: 0.8270\n",
            "Epoch 6/20\n",
            "20000/20000 [==============================] - 4s 196us/step - loss: 0.3379 - accuracy: 0.8643 - val_loss: 0.3543 - val_accuracy: 0.8552\n",
            "Epoch 7/20\n",
            "20000/20000 [==============================] - 4s 213us/step - loss: 0.3191 - accuracy: 0.8762 - val_loss: 0.3320 - val_accuracy: 0.8698\n",
            "Epoch 8/20\n",
            "20000/20000 [==============================] - 4s 203us/step - loss: 0.3107 - accuracy: 0.8810 - val_loss: 0.3794 - val_accuracy: 0.8338\n",
            "Epoch 9/20\n",
            "20000/20000 [==============================] - 4s 198us/step - loss: 0.3021 - accuracy: 0.8831 - val_loss: 0.3119 - val_accuracy: 0.8796\n",
            "Epoch 10/20\n",
            "20000/20000 [==============================] - 4s 203us/step - loss: 0.2900 - accuracy: 0.8913 - val_loss: 0.3675 - val_accuracy: 0.8370\n",
            "Epoch 11/20\n",
            "20000/20000 [==============================] - 4s 205us/step - loss: 0.2846 - accuracy: 0.8907 - val_loss: 0.3328 - val_accuracy: 0.8676\n",
            "Epoch 12/20\n",
            "20000/20000 [==============================] - 4s 193us/step - loss: 0.2820 - accuracy: 0.8941 - val_loss: 0.3198 - val_accuracy: 0.8816\n",
            "Epoch 13/20\n",
            "20000/20000 [==============================] - 4s 200us/step - loss: 0.2730 - accuracy: 0.8992 - val_loss: 0.3535 - val_accuracy: 0.8436\n",
            "Epoch 14/20\n",
            "20000/20000 [==============================] - 4s 200us/step - loss: 0.2695 - accuracy: 0.8997 - val_loss: 0.3305 - val_accuracy: 0.8792\n",
            "Epoch 15/20\n",
            "20000/20000 [==============================] - 4s 203us/step - loss: 0.2613 - accuracy: 0.9029 - val_loss: 0.3095 - val_accuracy: 0.8862\n",
            "Epoch 16/20\n",
            "20000/20000 [==============================] - 4s 208us/step - loss: 0.2585 - accuracy: 0.9075 - val_loss: 0.2988 - val_accuracy: 0.8846\n",
            "Epoch 17/20\n",
            "20000/20000 [==============================] - 4s 198us/step - loss: 0.2446 - accuracy: 0.9109 - val_loss: 0.3480 - val_accuracy: 0.8756\n",
            "Epoch 18/20\n",
            "20000/20000 [==============================] - 4s 198us/step - loss: 0.2445 - accuracy: 0.9126 - val_loss: 0.2987 - val_accuracy: 0.8844\n",
            "Epoch 19/20\n",
            "20000/20000 [==============================] - 4s 191us/step - loss: 0.2443 - accuracy: 0.9126 - val_loss: 0.3050 - val_accuracy: 0.8836\n",
            "Epoch 20/20\n",
            "20000/20000 [==============================] - 4s 194us/step - loss: 0.2328 - accuracy: 0.9194 - val_loss: 0.3297 - val_accuracy: 0.8600\n",
            "25000/25000 [==============================] - 1s 58us/step\n",
            "## evaluation loss and_metrics ##\n",
            "[0.3281707091140747, 0.8575599789619446]\n",
            "25000/25000 [==============================] - 1s 59us/step\n",
            "[0.3281707091140747, 0.8575599789619446]\n"
          ],
          "name": "stdout"
        },
        {
          "output_type": "display_data",
          "data": {
            "image/png": "[encoded data removed]",
            "text/plain": [
              "<Figure size 432x288 with 1 Axes>"
            ]
          },
          "metadata": {
            "tags": [],
            "needs_background": "light"
          }
        },
        {
          "output_type": "stream",
          "text": [
            "25000/25000 [==============================] - 2s 63us/step\n",
            "## evaluation loss and_metrics ##\n",
            "[0.3281707091140747, 0.8575599789619446]\n",
            "25000/25000 [==============================] - 2s 62us/step\n",
            "[0.3281707091140747, 0.8575599789619446]\n"
          ],
          "name": "stdout"
        }
      ]
    },
    {
      "cell_type": "code",
      "metadata": {
        "id": "HDxtErb-zfpS",
        "colab_type": "code",
        "outputId": "95ff764c-b74a-4a13-99d0-341e8d5d76e9",
        "colab": {
          "base_uri": "https://localhost:8080/",
          "height": 1000
        }
      },
      "source": [
        "(x_train, y_train), (x_test, y_test) = imdb.load_data(num_words=max_features)\n",
        "\n",
        "x_val = x_train[20000:]\n",
        "y_val = y_train[20000:]\n",
        "x_train = x_train[:20000]\n",
        "y_train = y_train[:20000]\n",
        "\n",
        "# padding\n",
        "x_train = sequence.pad_sequences(x_train, maxlen=text_max_words)\n",
        "x_val = sequence.pad_sequences(x_val, maxlen=text_max_words)\n",
        "x_test = sequence.pad_sequences(x_test, maxlen=text_max_words)\n",
        "\n",
        "# asemble the layers\n",
        "model = Sequential()\n",
        "model.add(Embedding(max_features, 128, input_length=text_max_words))\n",
        "model.add(Dropout(0.6))\n",
        "model.add(Conv1D(128,3,padding='valid',activation='relu',strides=1))\n",
        "model.add(GlobalMaxPooling1D())\n",
        "model.add(Dense(128, activation='relu'))\n",
        "model.add(Dropout(0.6))\n",
        "model.add(Dense(64, activation='relu'))\n",
        "model.add(Dropout(0.4))\n",
        "model.add(Dense(64, activation='relu'))\n",
        "model.add(Dropout(0.4))\n",
        "model.add(Dense(32, activation='relu'))\n",
        "model.add(Dropout(0,4))\n",
        "model.add(Dense(32, activation='relu'))\n",
        "model.add(Dropout(0,4))\n",
        "model.add(Dense(1, activation='sigmoid'))\n",
        "\n",
        "\n",
        "model.compile(loss='binary_crossentropy', optimizer='rmsprop', metrics=['accuracy'])\n",
        "\n",
        "# 4. training model\n",
        "history = model.fit(x_train, y_train, epochs=20, batch_size=32, validation_data=(x_val, y_val))\n",
        "\n",
        "# evaluation\n",
        "loss_and_metrics = model.evaluate(x_test, y_test, batch_size=32)\n",
        "print('## evaluation loss and_metrics ##')\n",
        "print(loss_and_metrics)\n",
        "\n",
        "results = model.evaluate(x_test, y_test)\n",
        "print(results)\n",
        "\n",
        "\n",
        "history_dict = history.history\n",
        "loss = history_dict['loss']\n",
        "val_loss = history_dict['val_loss']\n",
        "\n",
        "epochs = range(1, len(loss) + 1)\n",
        "\n",
        "plt.plot(epochs, loss, 'bo', label = 'Training loss')\n",
        "plt.plot(epochs, val_loss, 'b', label = 'Validatin loss')\n",
        "\n",
        "plt.show()\n",
        "\n",
        "# evaluation\n",
        "loss_and_metrics = model.evaluate(x_test, y_test, batch_size=32)\n",
        "print('## evaluation loss and_metrics ##')\n",
        "print(loss_and_metrics)\n",
        "\n",
        "results = model.evaluate(x_test, y_test)\n",
        "print(results)"
      ],
      "execution_count": 0,
      "outputs": [
        {
          "output_type": "stream",
          "text": [
            "/usr/local/lib/python3.6/dist-packages/tensorflow/python/framework/indexed_slices.py:434: UserWarning: Converting sparse IndexedSlices to a dense Tensor of unknown shape. This may consume a large amount of memory.\n",
            "  \"Converting sparse IndexedSlices to a dense Tensor of unknown shape. \"\n"
          ],
          "name": "stderr"
        },
        {
          "output_type": "stream",
          "text": [
            "Train on 20000 samples, validate on 5000 samples\n",
            "Epoch 1/20\n",
            "20000/20000 [==============================] - 4s 191us/step - loss: 0.6934 - accuracy: 0.5071 - val_loss: 0.6858 - val_accuracy: 0.5670\n",
            "Epoch 2/20\n",
            "20000/20000 [==============================] - 4s 186us/step - loss: 0.5409 - accuracy: 0.7264 - val_loss: 0.4048 - val_accuracy: 0.8198\n",
            "Epoch 3/20\n",
            "20000/20000 [==============================] - 3s 175us/step - loss: 0.4053 - accuracy: 0.8281 - val_loss: 0.3330 - val_accuracy: 0.8580\n",
            "Epoch 4/20\n",
            "20000/20000 [==============================] - 4s 178us/step - loss: 0.3537 - accuracy: 0.8544 - val_loss: 0.3182 - val_accuracy: 0.8674\n",
            "Epoch 5/20\n",
            "20000/20000 [==============================] - 3s 172us/step - loss: 0.3322 - accuracy: 0.8648 - val_loss: 0.3023 - val_accuracy: 0.8690\n",
            "Epoch 6/20\n",
            "20000/20000 [==============================] - 3s 175us/step - loss: 0.3111 - accuracy: 0.8779 - val_loss: 0.3264 - val_accuracy: 0.8764\n",
            "Epoch 7/20\n",
            "20000/20000 [==============================] - 4s 185us/step - loss: 0.2984 - accuracy: 0.8832 - val_loss: 0.2914 - val_accuracy: 0.8764\n",
            "Epoch 8/20\n",
            "20000/20000 [==============================] - 4s 179us/step - loss: 0.2913 - accuracy: 0.8887 - val_loss: 0.2800 - val_accuracy: 0.8792\n",
            "Epoch 9/20\n",
            "20000/20000 [==============================] - 4s 180us/step - loss: 0.2817 - accuracy: 0.8939 - val_loss: 0.2823 - val_accuracy: 0.8814\n",
            "Epoch 10/20\n",
            "20000/20000 [==============================] - 4s 178us/step - loss: 0.2717 - accuracy: 0.8976 - val_loss: 0.2790 - val_accuracy: 0.8818\n",
            "Epoch 11/20\n",
            "20000/20000 [==============================] - 4s 178us/step - loss: 0.2666 - accuracy: 0.9023 - val_loss: 0.2901 - val_accuracy: 0.8842\n",
            "Epoch 12/20\n",
            "20000/20000 [==============================] - 4s 179us/step - loss: 0.2665 - accuracy: 0.9018 - val_loss: 0.2810 - val_accuracy: 0.8838\n",
            "Epoch 13/20\n",
            "20000/20000 [==============================] - 4s 184us/step - loss: 0.2567 - accuracy: 0.9097 - val_loss: 0.3657 - val_accuracy: 0.8798\n",
            "Epoch 14/20\n",
            "20000/20000 [==============================] - 4s 180us/step - loss: 0.2493 - accuracy: 0.9110 - val_loss: 0.2801 - val_accuracy: 0.8862\n",
            "Epoch 15/20\n",
            "20000/20000 [==============================] - 4s 183us/step - loss: 0.2425 - accuracy: 0.9140 - val_loss: 0.3187 - val_accuracy: 0.8778\n",
            "Epoch 16/20\n",
            "20000/20000 [==============================] - 4s 184us/step - loss: 0.2429 - accuracy: 0.9158 - val_loss: 0.2841 - val_accuracy: 0.8894\n",
            "Epoch 17/20\n",
            "20000/20000 [==============================] - 4s 181us/step - loss: 0.2281 - accuracy: 0.9208 - val_loss: 0.2809 - val_accuracy: 0.8838\n",
            "Epoch 18/20\n",
            "20000/20000 [==============================] - 4s 181us/step - loss: 0.2286 - accuracy: 0.9221 - val_loss: 0.3612 - val_accuracy: 0.8854\n",
            "Epoch 19/20\n",
            "20000/20000 [==============================] - 4s 196us/step - loss: 0.2147 - accuracy: 0.9237 - val_loss: 0.3364 - val_accuracy: 0.8826\n",
            "Epoch 20/20\n",
            "20000/20000 [==============================] - 4s 181us/step - loss: 0.2185 - accuracy: 0.9266 - val_loss: 0.3062 - val_accuracy: 0.8818\n",
            "25000/25000 [==============================] - 1s 52us/step\n",
            "## evaluation loss and_metrics ##\n",
            "[0.2980324612188339, 0.8830400109291077]\n",
            "25000/25000 [==============================] - 1s 56us/step\n",
            "[0.2980324612188339, 0.8830400109291077]\n"
          ],
          "name": "stdout"
        },
        {
          "output_type": "display_data",
          "data": {
            "image/png": "[encoded data removed]",
            "text/plain": [
              "<Figure size 432x288 with 1 Axes>"
            ]
          },
          "metadata": {
            "tags": [],
            "needs_background": "light"
          }
        },
        {
          "output_type": "stream",
          "text": [
            "25000/25000 [==============================] - 1s 57us/step\n",
            "## evaluation loss and_metrics ##\n",
            "[0.2980324612188339, 0.8830400109291077]\n",
            "25000/25000 [==============================] - 1s 57us/step\n",
            "[0.2980324612188339, 0.8830400109291077]\n"
          ],
          "name": "stdout"
        }
      ]
    },
    {
      "cell_type": "code",
      "metadata": {
        "id": "zkVFP5aW_rTx",
        "colab_type": "code",
        "colab": {}
      },
      "source": [
        ""
      ],
      "execution_count": 0,
      "outputs": []
    }
  ]
}